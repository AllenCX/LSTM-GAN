{
 "cells": [
  {
   "cell_type": "code",
   "execution_count": 1,
   "metadata": {
    "collapsed": false
   },
   "outputs": [],
   "source": [
    "import tensorflow as tf\n",
    "import tflearn"
   ]
  },
  {
   "cell_type": "code",
   "execution_count": 2,
   "metadata": {
    "collapsed": false
   },
   "outputs": [],
   "source": [
    "class LSTM:\n",
    "    def __init__(self, vocabulary_size=200, num_nodes=128):\n",
    "        self.num_nodes = num_nodes\n",
    "        self.reuse = False\n",
    "        self.vocabulary_size = vocabulary_size\n",
    "        \n",
    "    def model(self, inputs, vocabulary_size=200, num_nodes=128):\n",
    "        with tf.variable_scope(\"LSTM\"):\n",
    "            with tf.variable_scope(\"input_gate\"):\n",
    "                ix = tf.get_variable(\"ix\", [vocabulary_size, num_nodes], \n",
    "                                      tf.float32, tf.truncated_normal_initializer(stddev=0.1))\n",
    "                im = tf.get_variable(\"im\", [num_nodes, num_nodes], \n",
    "                                      tf.float32, tf.truncated_normal_initializer(stddev=0.1))\n",
    "                ib = tf.get_variable(\"ib\", [1, num_nodes], \n",
    "                                      tf.float32, tf.constant_initializer(0))\n",
    "            with tf.variable_scope(\"forget_gate\"):\n",
    "                fx = tf.get_variable(\"fx\", [vocabulary_size, num_nodes], tf.float32, \n",
    "                                     tf.truncated_normal_initializer(stddev=0.1))\n",
    "                fm = tf.get_variable(\"fm\", [num_nodes, num_nodes], \n",
    "                                      tf.float32, tf.truncated_normal_initializer(stddev=0.1))\n",
    "                fb = tf.get_variable(\"fb\", [1, num_nodes], \n",
    "                                     tf.float32, tf.constant_initializer(0))\n",
    "            \n",
    "            with tf.variable_scope(\"output_gate\"):\n",
    "                ox = tf.get_variable(\"ox\", [vocabulary_size, num_nodes], tf.float32, \n",
    "                                     tf.truncated_normal_initializer(stddev=0.1))\n",
    "                om = tf.get_variable(\"om\", [num_nodes, num_nodes], \n",
    "                                      tf.float32, tf.truncated_normal_initializer(stddev=0.1))\n",
    "                ob = tf.get_variable(\"ob\", [1, num_nodes], \n",
    "                                     tf.float32, tf.constant_initializer(0))\n",
    "            \n",
    "            with tf.variable_scope(\"memory_cell\"):\n",
    "                cx = tf.get_variable(\"cx\", [vocabulary_size, num_nodes], tf.float32, \n",
    "                                     tf.truncated_normal_initializer(stddev=0.1))\n",
    "                cm = tf.get_variable(\"cm\", [num_nodes, num_nodes], \n",
    "                                      tf.float32, tf.truncated_normal_initializer(stddev=0.1))\n",
    "                cb = tf.get_variable(\"cb\", [1, num_nodes], \n",
    "                                     tf.float32, tf.constant_initializer(0))\n",
    "            \n",
    "            \n",
    "            \n",
    "        self.variables = tf.get_collection(tf.GraphKeys.VARIABLES, scope=\"LSTM\")\n",
    "    def __call__(self, inputs):\n",
    "        self.model(inputs)"
   ]
  },
  {
   "cell_type": "code",
   "execution_count": 3,
   "metadata": {
    "collapsed": false
   },
   "outputs": [],
   "source": [
    "L = LSTM()"
   ]
  },
  {
   "cell_type": "code",
   "execution_count": 4,
   "metadata": {
    "collapsed": false
   },
   "outputs": [],
   "source": [
    "L.model(\"1\")"
   ]
  },
  {
   "cell_type": "code",
   "execution_count": 8,
   "metadata": {
    "collapsed": false
   },
   "outputs": [
    {
     "name": "stdout",
     "output_type": "stream",
     "text": [
      "LSTM/input_gate/ix:0,(200, 128)\n",
      "LSTM/input_gate/im:0,(128, 128)\n",
      "LSTM/input_gate/ib:0,(1, 128)\n",
      "LSTM/forget_gate/fx:0,(200, 128)\n",
      "LSTM/forget_gate/fm:0,(128, 128)\n",
      "LSTM/forget_gate/fb:0,(1, 128)\n",
      "LSTM/output_gate/ox:0,(200, 128)\n",
      "LSTM/output_gate/om:0,(128, 128)\n",
      "LSTM/output_gate/ob:0,(1, 128)\n",
      "LSTM/memory_cell/cx:0,(200, 128)\n",
      "LSTM/memory_cell/cm:0,(128, 128)\n",
      "LSTM/memory_cell/cb:0,(1, 128)\n"
     ]
    }
   ],
   "source": [
    "for i in L.variables:\n",
    "    print(\"{},{}\".format(i.name, i.get_shape()))"
   ]
  },
  {
   "cell_type": "code",
   "execution_count": null,
   "metadata": {
    "collapsed": true
   },
   "outputs": [],
   "source": []
  }
 ],
 "metadata": {
  "kernelspec": {
   "display_name": "Python [tf]",
   "language": "python",
   "name": "Python [tf]"
  },
  "language_info": {
   "codemirror_mode": {
    "name": "ipython",
    "version": 3
   },
   "file_extension": ".py",
   "mimetype": "text/x-python",
   "name": "python",
   "nbconvert_exporter": "python",
   "pygments_lexer": "ipython3",
   "version": "3.5.2"
  }
 },
 "nbformat": 4,
 "nbformat_minor": 0
}
